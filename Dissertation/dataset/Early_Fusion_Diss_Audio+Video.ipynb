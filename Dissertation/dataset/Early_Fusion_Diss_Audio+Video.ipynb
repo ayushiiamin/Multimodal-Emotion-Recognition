{
  "nbformat": 4,
  "nbformat_minor": 0,
  "metadata": {
    "colab": {
      "name": "Early Fusion Diss Audio+Video.ipynb",
      "provenance": []
    },
    "kernelspec": {
      "name": "python3",
      "display_name": "Python 3"
    },
    "language_info": {
      "name": "python"
    }
  },
  "cells": [
    {
      "cell_type": "markdown",
      "source": [
        "https://medium.com/haileleol-tibebu/data-fusion-78e68e65b2d1 "
      ],
      "metadata": {
        "id": "mtVQMozvDQIc"
      }
    },
    {
      "cell_type": "code",
      "execution_count": 19,
      "metadata": {
        "id": "73_t5hONoFRb",
        "outputId": "dc97a512-026f-419d-d343-b2dc350008a1",
        "colab": {
          "base_uri": "https://localhost:8080/"
        }
      },
      "outputs": [
        {
          "output_type": "stream",
          "name": "stdout",
          "text": [
            "Drive already mounted at /content/drive; to attempt to forcibly remount, call drive.mount(\"/content/drive\", force_remount=True).\n"
          ]
        }
      ],
      "source": [
        "from google.colab import drive\n",
        "drive.mount('/content/drive')"
      ]
    },
    {
      "cell_type": "code",
      "source": [
        "import numpy as np\n",
        "import h5py\n",
        "import pandas as pd"
      ],
      "metadata": {
        "id": "RafgsXZxKcfS"
      },
      "execution_count": 20,
      "outputs": []
    },
    {
      "cell_type": "code",
      "source": [
        "df_Surprise_labels_Train = pd.read_csv(\"/content/drive/MyDrive/Dissertation/dataset/labels/mosi2uni_Train_labels_surprise.csv\",header=None)\n",
        "df_Angry_labels_Train = pd.read_csv(\"/content/drive/MyDrive/Dissertation/dataset/labels/mosi2uni_Train_labels_angry.csv\",header=None)\n",
        "df_Disgust_labels_Train = pd.read_csv(\"/content/drive/MyDrive/Dissertation/dataset/labels/mosi2uni_Train_labels_disgust.csv\",header=None)\n",
        "df_Fear_labels_Train = pd.read_csv(\"/content/drive/MyDrive/Dissertation/dataset/labels/mosi2uni_Train_labels_fear.csv\",header=None)\n",
        "df_Happy_labels_Train = pd.read_csv(\"/content/drive/MyDrive/Dissertation/dataset/labels/mosi2uni_Train_labels_happy.csv\",header=None)\n",
        "df_Sad_labels_Train = pd.read_csv(\"/content/drive/MyDrive/Dissertation/dataset/labels/mosi2uni_Train_labels_sad.csv\",header=None)"
      ],
      "metadata": {
        "id": "TC4tuW5aSb-u"
      },
      "execution_count": 21,
      "outputs": []
    },
    {
      "cell_type": "code",
      "source": [
        "df_Surprise_labels_Test = pd.read_csv(\"/content/drive/MyDrive/Dissertation/dataset/labels/mosi2uni_Test_labels_surprise.csv\",header=None)\n",
        "df_Angry_labels_Test = pd.read_csv(\"/content/drive/MyDrive/Dissertation/dataset/labels/mosi2uni_Test_labels_angry.csv\",header=None)\n",
        "df_Disgust_labels_Test = pd.read_csv(\"/content/drive/MyDrive/Dissertation/dataset/labels/mosi2uni_Test_labels_disgust.csv\",header=None)\n",
        "df_Fear_labels_Test = pd.read_csv(\"/content/drive/MyDrive/Dissertation/dataset/labels/mosi2uni_Test_labels_fear.csv\",header=None)\n",
        "df_Happy_labels_Test = pd.read_csv(\"/content/drive/MyDrive/Dissertation/dataset/labels/mosi2uni_Test_labels_happy.csv\",header=None)\n",
        "df_Sad_labels_Test = pd.read_csv(\"/content/drive/MyDrive/Dissertation/dataset/labels/mosi2uni_Test_labels_sad.csv\",header=None)"
      ],
      "metadata": {
        "id": "6gjVzIKhLqob"
      },
      "execution_count": 22,
      "outputs": []
    },
    {
      "cell_type": "code",
      "source": [
        "display(df_Angry_labels_Train)"
      ],
      "metadata": {
        "colab": {
          "base_uri": "https://localhost:8080/",
          "height": 424
        },
        "id": "BDW4-0zJSRlA",
        "outputId": "ea568171-11b6-496b-aa13-7be9be74b68f"
      },
      "execution_count": 23,
      "outputs": [
        {
          "output_type": "display_data",
          "data": {
            "text/plain": [
              "       0\n",
              "0      0\n",
              "1      1\n",
              "2      0\n",
              "3      1\n",
              "4      0\n",
              "...   ..\n",
              "15285  0\n",
              "15286  0\n",
              "15287  0\n",
              "15288  0\n",
              "15289  0\n",
              "\n",
              "[15290 rows x 1 columns]"
            ],
            "text/html": [
              "\n",
              "  <div id=\"df-22f57d48-7d1a-4f86-a3dd-8dd3b5f15d2e\">\n",
              "    <div class=\"colab-df-container\">\n",
              "      <div>\n",
              "<style scoped>\n",
              "    .dataframe tbody tr th:only-of-type {\n",
              "        vertical-align: middle;\n",
              "    }\n",
              "\n",
              "    .dataframe tbody tr th {\n",
              "        vertical-align: top;\n",
              "    }\n",
              "\n",
              "    .dataframe thead th {\n",
              "        text-align: right;\n",
              "    }\n",
              "</style>\n",
              "<table border=\"1\" class=\"dataframe\">\n",
              "  <thead>\n",
              "    <tr style=\"text-align: right;\">\n",
              "      <th></th>\n",
              "      <th>0</th>\n",
              "    </tr>\n",
              "  </thead>\n",
              "  <tbody>\n",
              "    <tr>\n",
              "      <th>0</th>\n",
              "      <td>0</td>\n",
              "    </tr>\n",
              "    <tr>\n",
              "      <th>1</th>\n",
              "      <td>1</td>\n",
              "    </tr>\n",
              "    <tr>\n",
              "      <th>2</th>\n",
              "      <td>0</td>\n",
              "    </tr>\n",
              "    <tr>\n",
              "      <th>3</th>\n",
              "      <td>1</td>\n",
              "    </tr>\n",
              "    <tr>\n",
              "      <th>4</th>\n",
              "      <td>0</td>\n",
              "    </tr>\n",
              "    <tr>\n",
              "      <th>...</th>\n",
              "      <td>...</td>\n",
              "    </tr>\n",
              "    <tr>\n",
              "      <th>15285</th>\n",
              "      <td>0</td>\n",
              "    </tr>\n",
              "    <tr>\n",
              "      <th>15286</th>\n",
              "      <td>0</td>\n",
              "    </tr>\n",
              "    <tr>\n",
              "      <th>15287</th>\n",
              "      <td>0</td>\n",
              "    </tr>\n",
              "    <tr>\n",
              "      <th>15288</th>\n",
              "      <td>0</td>\n",
              "    </tr>\n",
              "    <tr>\n",
              "      <th>15289</th>\n",
              "      <td>0</td>\n",
              "    </tr>\n",
              "  </tbody>\n",
              "</table>\n",
              "<p>15290 rows × 1 columns</p>\n",
              "</div>\n",
              "      <button class=\"colab-df-convert\" onclick=\"convertToInteractive('df-22f57d48-7d1a-4f86-a3dd-8dd3b5f15d2e')\"\n",
              "              title=\"Convert this dataframe to an interactive table.\"\n",
              "              style=\"display:none;\">\n",
              "        \n",
              "  <svg xmlns=\"http://www.w3.org/2000/svg\" height=\"24px\"viewBox=\"0 0 24 24\"\n",
              "       width=\"24px\">\n",
              "    <path d=\"M0 0h24v24H0V0z\" fill=\"none\"/>\n",
              "    <path d=\"M18.56 5.44l.94 2.06.94-2.06 2.06-.94-2.06-.94-.94-2.06-.94 2.06-2.06.94zm-11 1L8.5 8.5l.94-2.06 2.06-.94-2.06-.94L8.5 2.5l-.94 2.06-2.06.94zm10 10l.94 2.06.94-2.06 2.06-.94-2.06-.94-.94-2.06-.94 2.06-2.06.94z\"/><path d=\"M17.41 7.96l-1.37-1.37c-.4-.4-.92-.59-1.43-.59-.52 0-1.04.2-1.43.59L10.3 9.45l-7.72 7.72c-.78.78-.78 2.05 0 2.83L4 21.41c.39.39.9.59 1.41.59.51 0 1.02-.2 1.41-.59l7.78-7.78 2.81-2.81c.8-.78.8-2.07 0-2.86zM5.41 20L4 18.59l7.72-7.72 1.47 1.35L5.41 20z\"/>\n",
              "  </svg>\n",
              "      </button>\n",
              "      \n",
              "  <style>\n",
              "    .colab-df-container {\n",
              "      display:flex;\n",
              "      flex-wrap:wrap;\n",
              "      gap: 12px;\n",
              "    }\n",
              "\n",
              "    .colab-df-convert {\n",
              "      background-color: #E8F0FE;\n",
              "      border: none;\n",
              "      border-radius: 50%;\n",
              "      cursor: pointer;\n",
              "      display: none;\n",
              "      fill: #1967D2;\n",
              "      height: 32px;\n",
              "      padding: 0 0 0 0;\n",
              "      width: 32px;\n",
              "    }\n",
              "\n",
              "    .colab-df-convert:hover {\n",
              "      background-color: #E2EBFA;\n",
              "      box-shadow: 0px 1px 2px rgba(60, 64, 67, 0.3), 0px 1px 3px 1px rgba(60, 64, 67, 0.15);\n",
              "      fill: #174EA6;\n",
              "    }\n",
              "\n",
              "    [theme=dark] .colab-df-convert {\n",
              "      background-color: #3B4455;\n",
              "      fill: #D2E3FC;\n",
              "    }\n",
              "\n",
              "    [theme=dark] .colab-df-convert:hover {\n",
              "      background-color: #434B5C;\n",
              "      box-shadow: 0px 1px 3px 1px rgba(0, 0, 0, 0.15);\n",
              "      filter: drop-shadow(0px 1px 2px rgba(0, 0, 0, 0.3));\n",
              "      fill: #FFFFFF;\n",
              "    }\n",
              "  </style>\n",
              "\n",
              "      <script>\n",
              "        const buttonEl =\n",
              "          document.querySelector('#df-22f57d48-7d1a-4f86-a3dd-8dd3b5f15d2e button.colab-df-convert');\n",
              "        buttonEl.style.display =\n",
              "          google.colab.kernel.accessAllowed ? 'block' : 'none';\n",
              "\n",
              "        async function convertToInteractive(key) {\n",
              "          const element = document.querySelector('#df-22f57d48-7d1a-4f86-a3dd-8dd3b5f15d2e');\n",
              "          const dataTable =\n",
              "            await google.colab.kernel.invokeFunction('convertToInteractive',\n",
              "                                                     [key], {});\n",
              "          if (!dataTable) return;\n",
              "\n",
              "          const docLinkHtml = 'Like what you see? Visit the ' +\n",
              "            '<a target=\"_blank\" href=https://colab.research.google.com/notebooks/data_table.ipynb>data table notebook</a>'\n",
              "            + ' to learn more about interactive tables.';\n",
              "          element.innerHTML = '';\n",
              "          dataTable['output_type'] = 'display_data';\n",
              "          await google.colab.output.renderOutput(dataTable, element);\n",
              "          const docLink = document.createElement('div');\n",
              "          docLink.innerHTML = docLinkHtml;\n",
              "          element.appendChild(docLink);\n",
              "        }\n",
              "      </script>\n",
              "    </div>\n",
              "  </div>\n",
              "  "
            ]
          },
          "metadata": {}
        }
      ]
    },
    {
      "cell_type": "code",
      "source": [
        "print(type(df_Surprise_labels_Train))"
      ],
      "metadata": {
        "colab": {
          "base_uri": "https://localhost:8080/"
        },
        "id": "Gz2_Z1Yd93mV",
        "outputId": "aa832ea9-3778-46ba-8e26-8c2fd9f2bfcb"
      },
      "execution_count": 24,
      "outputs": [
        {
          "output_type": "stream",
          "name": "stdout",
          "text": [
            "<class 'pandas.core.frame.DataFrame'>\n"
          ]
        }
      ]
    },
    {
      "cell_type": "code",
      "source": [
        "print(\"-----------TRAIN of VIDEO modality-----------\")\n",
        "dataMosei_train_video = h5py.File(\"/content/drive/MyDrive/Dissertation/dataset/data/video_train.h5\", \"r\")\n",
        "\n",
        "video_trainKeys = []\n",
        "for key in dataMosei_train_video.keys():\n",
        "    video_trainKeys.append(key)\n",
        "print(video_trainKeys)\n",
        "\n",
        "trainVideoArr = np.array(dataMosei_train_video.get('d1'))\n",
        "print(trainVideoArr.shape)"
      ],
      "metadata": {
        "colab": {
          "base_uri": "https://localhost:8080/"
        },
        "id": "oaUSSZIUAN11",
        "outputId": "3f172449-4478-4689-d265-c5cbb1fbe34d"
      },
      "execution_count": 25,
      "outputs": [
        {
          "output_type": "stream",
          "name": "stdout",
          "text": [
            "-----------TRAIN of VIDEO modality-----------\n",
            "['d1']\n",
            "(15290, 20, 35)\n"
          ]
        }
      ]
    },
    {
      "cell_type": "code",
      "source": [
        "print(\"-----------TEST of VIDEO modality-----------\")\n",
        "dataMosei_test_video = h5py.File(\"/content/drive/MyDrive/Dissertation/dataset/data/video_test.h5\", \"r\")\n",
        "\n",
        "video_testKeys = []\n",
        "for key in dataMosei_test_video.keys():\n",
        "    video_testKeys.append(key)\n",
        "print(video_testKeys)\n",
        "\n",
        "testVideoArr = np.array(dataMosei_test_video.get('d1'))\n",
        "print(testVideoArr.shape)"
      ],
      "metadata": {
        "colab": {
          "base_uri": "https://localhost:8080/"
        },
        "outputId": "387c0101-5b40-4857-9ae4-7244af4b9589",
        "id": "ruuQURW8CiLm"
      },
      "execution_count": 26,
      "outputs": [
        {
          "output_type": "stream",
          "name": "stdout",
          "text": [
            "-----------TEST of VIDEO modality-----------\n",
            "['d1']\n",
            "(4832, 20, 35)\n"
          ]
        }
      ]
    },
    {
      "cell_type": "code",
      "source": [
        "print(\"-----------TRAIN of AUDIO modality-----------\")\n",
        "dataMosei_train_audio = h5py.File(\"/content/drive/MyDrive/Dissertation/dataset/data/audio_train.h5\", \"r\")\n",
        "\n",
        "audio_trainKeys = []\n",
        "for key in dataMosei_train_audio.keys():\n",
        "    audio_trainKeys.append(key)\n",
        "print(audio_trainKeys)\n",
        "\n",
        "trainAudioArr = np.array(dataMosei_train_audio.get('d1'))\n",
        "print(trainAudioArr.shape)"
      ],
      "metadata": {
        "colab": {
          "base_uri": "https://localhost:8080/"
        },
        "outputId": "7c0bf438-2e1c-4e17-b67c-d718841a2e19",
        "id": "eFygc59IDfRE"
      },
      "execution_count": 27,
      "outputs": [
        {
          "output_type": "stream",
          "name": "stdout",
          "text": [
            "-----------TRAIN of AUDIO modality-----------\n",
            "['d1']\n",
            "(15290, 20, 74)\n"
          ]
        }
      ]
    },
    {
      "cell_type": "code",
      "source": [
        "print(\"-----------TEST of AUDIO modality-----------\")\n",
        "dataMosei_test_audio = h5py.File(\"/content/drive/MyDrive/Dissertation/dataset/data/audio_test.h5\", \"r\")\n",
        "\n",
        "audio_testKeys = []\n",
        "for key in dataMosei_test_audio.keys():\n",
        "    audio_testKeys.append(key)\n",
        "print(audio_testKeys)\n",
        "\n",
        "testAudioArr = np.array(dataMosei_test_audio.get('d1'))\n",
        "print(testAudioArr.shape)"
      ],
      "metadata": {
        "colab": {
          "base_uri": "https://localhost:8080/"
        },
        "outputId": "14528338-356a-443a-e3ca-de98e3719339",
        "id": "oQMi15WYFaFD"
      },
      "execution_count": 29,
      "outputs": [
        {
          "output_type": "stream",
          "name": "stdout",
          "text": [
            "-----------TEST of AUDIO modality-----------\n",
            "['d1']\n",
            "(4832, 20, 74)\n"
          ]
        }
      ]
    },
    {
      "cell_type": "markdown",
      "source": [
        "https://stackoverflow.com/questions/58414274/numpy-concatenate-with-axis-1-visualize-with-matplotlib#:~:text=If%20you%20concatenate%20on%20axis,%2C%203%2C%20or%204%20channels.&text=You'll%20get%20an%20array,375%2C%201000%2C%203)%20. "
      ],
      "metadata": {
        "id": "dA2p2LkofwBM"
      }
    },
    {
      "cell_type": "code",
      "source": [
        "print(\"Train Audio Shape: \", trainAudioArr.shape)\n",
        "print(\"Train Video Shape: \", trainVideoArr.shape)\n",
        "\n",
        "print(\" \")\n",
        "print(\"-----------CONCATENATE AUDIO + VIDEO (Train)-----------\")\n",
        "\n",
        "modality_fusion_train = np.concatenate((trainAudioArr, trainVideoArr),axis=-1)\n",
        "print(\"Audio+Video fused TRAIN array shape: \", modality_fusion_train.shape)    # 74+35 = 109"
      ],
      "metadata": {
        "colab": {
          "base_uri": "https://localhost:8080/"
        },
        "id": "52bC2wJfVOYV",
        "outputId": "df8b8a5a-41c1-48f9-af6c-832c1f734a68"
      },
      "execution_count": 38,
      "outputs": [
        {
          "output_type": "stream",
          "name": "stdout",
          "text": [
            "Train Audio Shape:  (15290, 20, 74)\n",
            "Train Video Shape:  (15290, 20, 35)\n",
            " \n",
            "-----------CONCATENATE AUDIO + VIDEO (Train)-----------\n",
            "Audio+Video fused TRAIN array shape:  (15290, 20, 109)\n"
          ]
        }
      ]
    },
    {
      "cell_type": "code",
      "source": [
        "print(\"Test Audio Shape: \", testAudioArr.shape)\n",
        "print(\"Test Video Shape: \", testVideoArr.shape)\n",
        "\n",
        "print(\" \")\n",
        "print(\"-----------CONCATENATE AUDIO + VIDEO (Test)-----------\")\n",
        "\n",
        "modality_fusion_test = np.concatenate((testAudioArr, testVideoArr),axis=-1)\n",
        "print(\"Audio+Video fused TEST array shape: \", modality_fusion_test.shape)    # 74+35 = 109"
      ],
      "metadata": {
        "colab": {
          "base_uri": "https://localhost:8080/"
        },
        "outputId": "984c06ad-0091-4584-d78b-f9303fc50a6d",
        "id": "FxgxpI0xh6vF"
      },
      "execution_count": 39,
      "outputs": [
        {
          "output_type": "stream",
          "name": "stdout",
          "text": [
            "Test Audio Shape:  (4832, 20, 74)\n",
            "Test Video Shape:  (4832, 20, 35)\n",
            " \n",
            "-----------CONCATENATE AUDIO + VIDEO (Test)-----------\n",
            "Audio+Video fused TEST array shape:  (4832, 20, 109)\n"
          ]
        }
      ]
    }
  ]
}